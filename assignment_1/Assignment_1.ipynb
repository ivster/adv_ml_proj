{
  "nbformat": 4,
  "nbformat_minor": 0,
  "metadata": {
    "colab": {
      "provenance": []
    },
    "kernelspec": {
      "name": "python3",
      "display_name": "Python 3"
    },
    "language_info": {
      "name": "python"
    }
  },
  "cells": [
    {
      "cell_type": "markdown",
      "source": [
        "### Github Repo: https://github.com/ivster/adv_ml_proj"
      ],
      "metadata": {
        "id": "4ICMfg5YNk48"
      }
    },
    {
      "cell_type": "markdown",
      "source": [
        "### Explore bivariate results (Use visualizations!)\n"
      ],
      "metadata": {
        "id": "ao8NStuMB88d"
      }
    },
    {
      "cell_type": "code",
      "source": [
        "#install aimodelshare library\n",
        "! pip install aimodelshare --upgrade"
      ],
      "metadata": {
        "colab": {
          "base_uri": "https://localhost:8080/"
        },
        "id": "zRtj81AH9Y-k",
        "outputId": "05fbeef7-9d1c-4587-e9ff-a403cefb3c81"
      },
      "execution_count": 90,
      "outputs": [
        {
          "output_type": "stream",
          "name": "stdout",
          "text": [
            "Looking in indexes: https://pypi.org/simple, https://us-python.pkg.dev/colab-wheels/public/simple/\n",
            "Requirement already satisfied: aimodelshare in /usr/local/lib/python3.8/dist-packages (0.0.178)\n",
            "Requirement already satisfied: skl2onnx>=1.8.0 in /usr/local/lib/python3.8/dist-packages (from aimodelshare) (1.13)\n",
            "Requirement already satisfied: importlib-resources==5.10.0 in /usr/local/lib/python3.8/dist-packages (from aimodelshare) (5.10.0)\n",
            "Requirement already satisfied: pathlib>=1.0.1 in /usr/local/lib/python3.8/dist-packages (from aimodelshare) (1.0.1)\n",
            "Requirement already satisfied: pydot==1.3.0 in /usr/local/lib/python3.8/dist-packages (from aimodelshare) (1.3.0)\n",
            "Requirement already satisfied: wget==3.2 in /usr/local/lib/python3.8/dist-packages (from aimodelshare) (3.2)\n",
            "Requirement already satisfied: Pympler==0.9 in /usr/local/lib/python3.8/dist-packages (from aimodelshare) (0.9)\n",
            "Requirement already satisfied: seaborn>=0.11.2 in /usr/local/lib/python3.8/dist-packages (from aimodelshare) (0.11.2)\n",
            "Requirement already satisfied: boto3==1.21.20 in /usr/local/lib/python3.8/dist-packages (from aimodelshare) (1.21.20)\n",
            "Requirement already satisfied: tensorflow==2.9.2 in /usr/local/lib/python3.8/dist-packages (from aimodelshare) (2.9.2)\n",
            "Requirement already satisfied: onnx==1.12.0 in /usr/local/lib/python3.8/dist-packages (from aimodelshare) (1.12.0)\n",
            "Requirement already satisfied: torch>=1.8.1 in /usr/local/lib/python3.8/dist-packages (from aimodelshare) (1.13.1+cu116)\n",
            "Requirement already satisfied: regex in /usr/local/lib/python3.8/dist-packages (from aimodelshare) (2022.6.2)\n",
            "Requirement already satisfied: PyJWT>=2.4.0 in /usr/local/lib/python3.8/dist-packages (from aimodelshare) (2.6.0)\n",
            "Requirement already satisfied: shortuuid>=1.0.8 in /usr/local/lib/python3.8/dist-packages (from aimodelshare) (1.0.11)\n",
            "Requirement already satisfied: tf2onnx in /usr/local/lib/python3.8/dist-packages (from aimodelshare) (1.13.0)\n",
            "Requirement already satisfied: psutil>=5.9.1 in /usr/local/lib/python3.8/dist-packages (from aimodelshare) (5.9.4)\n",
            "Requirement already satisfied: onnxruntime>=1.7.0 in /usr/local/lib/python3.8/dist-packages (from aimodelshare) (1.13.1)\n",
            "Requirement already satisfied: docker==5.0.0 in /usr/local/lib/python3.8/dist-packages (from aimodelshare) (5.0.0)\n",
            "Requirement already satisfied: onnxconverter-common>=1.7.0 in /usr/local/lib/python3.8/dist-packages (from aimodelshare) (1.13.0)\n",
            "Requirement already satisfied: botocore==1.24.20 in /usr/local/lib/python3.8/dist-packages (from aimodelshare) (1.24.20)\n",
            "Requirement already satisfied: scikit-learn==0.24.2 in /usr/local/lib/python3.8/dist-packages (from aimodelshare) (0.24.2)\n",
            "Requirement already satisfied: keras2onnx>=1.7.0 in /usr/local/lib/python3.8/dist-packages (from aimodelshare) (1.7.0)\n",
            "Requirement already satisfied: onnxmltools>=1.6.1 in /usr/local/lib/python3.8/dist-packages (from aimodelshare) (1.11.1)\n",
            "Requirement already satisfied: astunparse==1.6.3 in /usr/local/lib/python3.8/dist-packages (from aimodelshare) (1.6.3)\n",
            "Requirement already satisfied: six<2.0,>=1.6.1 in /usr/local/lib/python3.8/dist-packages (from astunparse==1.6.3->aimodelshare) (1.15.0)\n",
            "Requirement already satisfied: wheel<1.0,>=0.23.0 in /usr/local/lib/python3.8/dist-packages (from astunparse==1.6.3->aimodelshare) (0.38.4)\n",
            "Requirement already satisfied: jmespath<1.0.0,>=0.7.1 in /usr/local/lib/python3.8/dist-packages (from boto3==1.21.20->aimodelshare) (0.10.0)\n",
            "Requirement already satisfied: s3transfer<0.6.0,>=0.5.0 in /usr/local/lib/python3.8/dist-packages (from boto3==1.21.20->aimodelshare) (0.5.2)\n",
            "Requirement already satisfied: python-dateutil<3.0.0,>=2.1 in /usr/local/lib/python3.8/dist-packages (from botocore==1.24.20->aimodelshare) (2.8.2)\n",
            "Requirement already satisfied: urllib3<1.27,>=1.25.4 in /usr/local/lib/python3.8/dist-packages (from botocore==1.24.20->aimodelshare) (1.26.14)\n",
            "Requirement already satisfied: websocket-client>=0.32.0 in /usr/local/lib/python3.8/dist-packages (from docker==5.0.0->aimodelshare) (1.5.1)\n",
            "Requirement already satisfied: requests!=2.18.0,>=2.14.2 in /usr/local/lib/python3.8/dist-packages (from docker==5.0.0->aimodelshare) (2.25.1)\n",
            "Requirement already satisfied: zipp>=3.1.0 in /usr/local/lib/python3.8/dist-packages (from importlib-resources==5.10.0->aimodelshare) (3.12.0)\n",
            "Requirement already satisfied: numpy>=1.16.6 in /usr/local/lib/python3.8/dist-packages (from onnx==1.12.0->aimodelshare) (1.21.6)\n",
            "Requirement already satisfied: protobuf<=3.20.1,>=3.12.2 in /usr/local/lib/python3.8/dist-packages (from onnx==1.12.0->aimodelshare) (3.19.6)\n",
            "Requirement already satisfied: typing-extensions>=3.6.2.1 in /usr/local/lib/python3.8/dist-packages (from onnx==1.12.0->aimodelshare) (4.4.0)\n",
            "Requirement already satisfied: pyparsing>=2.1.4 in /usr/local/lib/python3.8/dist-packages (from pydot==1.3.0->aimodelshare) (3.0.9)\n",
            "Requirement already satisfied: scipy>=0.19.1 in /usr/local/lib/python3.8/dist-packages (from scikit-learn==0.24.2->aimodelshare) (1.7.3)\n",
            "Requirement already satisfied: threadpoolctl>=2.0.0 in /usr/local/lib/python3.8/dist-packages (from scikit-learn==0.24.2->aimodelshare) (3.1.0)\n",
            "Requirement already satisfied: joblib>=0.11 in /usr/local/lib/python3.8/dist-packages (from scikit-learn==0.24.2->aimodelshare) (1.2.0)\n",
            "Requirement already satisfied: google-pasta>=0.1.1 in /usr/local/lib/python3.8/dist-packages (from tensorflow==2.9.2->aimodelshare) (0.2.0)\n",
            "Requirement already satisfied: gast<=0.4.0,>=0.2.1 in /usr/local/lib/python3.8/dist-packages (from tensorflow==2.9.2->aimodelshare) (0.4.0)\n",
            "Requirement already satisfied: opt-einsum>=2.3.2 in /usr/local/lib/python3.8/dist-packages (from tensorflow==2.9.2->aimodelshare) (3.3.0)\n",
            "Requirement already satisfied: h5py>=2.9.0 in /usr/local/lib/python3.8/dist-packages (from tensorflow==2.9.2->aimodelshare) (3.1.0)\n",
            "Requirement already satisfied: keras-preprocessing>=1.1.1 in /usr/local/lib/python3.8/dist-packages (from tensorflow==2.9.2->aimodelshare) (1.1.2)\n",
            "Requirement already satisfied: packaging in /usr/local/lib/python3.8/dist-packages (from tensorflow==2.9.2->aimodelshare) (23.0)\n",
            "Requirement already satisfied: tensorboard<2.10,>=2.9 in /usr/local/lib/python3.8/dist-packages (from tensorflow==2.9.2->aimodelshare) (2.9.1)\n",
            "Requirement already satisfied: flatbuffers<2,>=1.12 in /usr/local/lib/python3.8/dist-packages (from tensorflow==2.9.2->aimodelshare) (1.12)\n",
            "Requirement already satisfied: grpcio<2.0,>=1.24.3 in /usr/local/lib/python3.8/dist-packages (from tensorflow==2.9.2->aimodelshare) (1.51.1)\n",
            "Requirement already satisfied: keras<2.10.0,>=2.9.0rc0 in /usr/local/lib/python3.8/dist-packages (from tensorflow==2.9.2->aimodelshare) (2.9.0)\n",
            "Requirement already satisfied: libclang>=13.0.0 in /usr/local/lib/python3.8/dist-packages (from tensorflow==2.9.2->aimodelshare) (15.0.6.1)\n",
            "Requirement already satisfied: tensorflow-estimator<2.10.0,>=2.9.0rc0 in /usr/local/lib/python3.8/dist-packages (from tensorflow==2.9.2->aimodelshare) (2.9.0)\n",
            "Requirement already satisfied: termcolor>=1.1.0 in /usr/local/lib/python3.8/dist-packages (from tensorflow==2.9.2->aimodelshare) (2.2.0)\n",
            "Requirement already satisfied: tensorflow-io-gcs-filesystem>=0.23.1 in /usr/local/lib/python3.8/dist-packages (from tensorflow==2.9.2->aimodelshare) (0.30.0)\n",
            "Requirement already satisfied: setuptools in /usr/local/lib/python3.8/dist-packages (from tensorflow==2.9.2->aimodelshare) (57.4.0)\n",
            "Requirement already satisfied: wrapt>=1.11.0 in /usr/local/lib/python3.8/dist-packages (from tensorflow==2.9.2->aimodelshare) (1.14.1)\n",
            "Requirement already satisfied: absl-py>=1.0.0 in /usr/local/lib/python3.8/dist-packages (from tensorflow==2.9.2->aimodelshare) (1.4.0)\n",
            "Requirement already satisfied: fire in /usr/local/lib/python3.8/dist-packages (from keras2onnx>=1.7.0->aimodelshare) (0.5.0)\n",
            "Requirement already satisfied: coloredlogs in /usr/local/lib/python3.8/dist-packages (from onnxruntime>=1.7.0->aimodelshare) (15.0.1)\n",
            "Requirement already satisfied: sympy in /usr/local/lib/python3.8/dist-packages (from onnxruntime>=1.7.0->aimodelshare) (1.7.1)\n",
            "Requirement already satisfied: pandas>=0.23 in /usr/local/lib/python3.8/dist-packages (from seaborn>=0.11.2->aimodelshare) (1.3.5)\n",
            "Requirement already satisfied: matplotlib>=2.2 in /usr/local/lib/python3.8/dist-packages (from seaborn>=0.11.2->aimodelshare) (3.2.2)\n",
            "Requirement already satisfied: cycler>=0.10 in /usr/local/lib/python3.8/dist-packages (from matplotlib>=2.2->seaborn>=0.11.2->aimodelshare) (0.11.0)\n",
            "Requirement already satisfied: kiwisolver>=1.0.1 in /usr/local/lib/python3.8/dist-packages (from matplotlib>=2.2->seaborn>=0.11.2->aimodelshare) (1.4.4)\n",
            "Requirement already satisfied: pytz>=2017.3 in /usr/local/lib/python3.8/dist-packages (from pandas>=0.23->seaborn>=0.11.2->aimodelshare) (2022.7.1)\n",
            "Requirement already satisfied: certifi>=2017.4.17 in /usr/local/lib/python3.8/dist-packages (from requests!=2.18.0,>=2.14.2->docker==5.0.0->aimodelshare) (2022.12.7)\n",
            "Requirement already satisfied: chardet<5,>=3.0.2 in /usr/local/lib/python3.8/dist-packages (from requests!=2.18.0,>=2.14.2->docker==5.0.0->aimodelshare) (4.0.0)\n",
            "Requirement already satisfied: idna<3,>=2.5 in /usr/local/lib/python3.8/dist-packages (from requests!=2.18.0,>=2.14.2->docker==5.0.0->aimodelshare) (2.10)\n",
            "Requirement already satisfied: tensorboard-data-server<0.7.0,>=0.6.0 in /usr/local/lib/python3.8/dist-packages (from tensorboard<2.10,>=2.9->tensorflow==2.9.2->aimodelshare) (0.6.1)\n",
            "Requirement already satisfied: google-auth<3,>=1.6.3 in /usr/local/lib/python3.8/dist-packages (from tensorboard<2.10,>=2.9->tensorflow==2.9.2->aimodelshare) (2.16.0)\n",
            "Requirement already satisfied: tensorboard-plugin-wit>=1.6.0 in /usr/local/lib/python3.8/dist-packages (from tensorboard<2.10,>=2.9->tensorflow==2.9.2->aimodelshare) (1.8.1)\n",
            "Requirement already satisfied: werkzeug>=1.0.1 in /usr/local/lib/python3.8/dist-packages (from tensorboard<2.10,>=2.9->tensorflow==2.9.2->aimodelshare) (1.0.1)\n",
            "Requirement already satisfied: markdown>=2.6.8 in /usr/local/lib/python3.8/dist-packages (from tensorboard<2.10,>=2.9->tensorflow==2.9.2->aimodelshare) (3.4.1)\n",
            "Requirement already satisfied: google-auth-oauthlib<0.5,>=0.4.1 in /usr/local/lib/python3.8/dist-packages (from tensorboard<2.10,>=2.9->tensorflow==2.9.2->aimodelshare) (0.4.6)\n",
            "Requirement already satisfied: humanfriendly>=9.1 in /usr/local/lib/python3.8/dist-packages (from coloredlogs->onnxruntime>=1.7.0->aimodelshare) (10.0)\n",
            "Requirement already satisfied: mpmath>=0.19 in /usr/local/lib/python3.8/dist-packages (from sympy->onnxruntime>=1.7.0->aimodelshare) (1.2.1)\n",
            "Requirement already satisfied: pyasn1-modules>=0.2.1 in /usr/local/lib/python3.8/dist-packages (from google-auth<3,>=1.6.3->tensorboard<2.10,>=2.9->tensorflow==2.9.2->aimodelshare) (0.2.8)\n",
            "Requirement already satisfied: rsa<5,>=3.1.4 in /usr/local/lib/python3.8/dist-packages (from google-auth<3,>=1.6.3->tensorboard<2.10,>=2.9->tensorflow==2.9.2->aimodelshare) (4.9)\n",
            "Requirement already satisfied: cachetools<6.0,>=2.0.0 in /usr/local/lib/python3.8/dist-packages (from google-auth<3,>=1.6.3->tensorboard<2.10,>=2.9->tensorflow==2.9.2->aimodelshare) (5.3.0)\n",
            "Requirement already satisfied: requests-oauthlib>=0.7.0 in /usr/local/lib/python3.8/dist-packages (from google-auth-oauthlib<0.5,>=0.4.1->tensorboard<2.10,>=2.9->tensorflow==2.9.2->aimodelshare) (1.3.1)\n",
            "Requirement already satisfied: importlib-metadata>=4.4 in /usr/local/lib/python3.8/dist-packages (from markdown>=2.6.8->tensorboard<2.10,>=2.9->tensorflow==2.9.2->aimodelshare) (6.0.0)\n",
            "Requirement already satisfied: pyasn1<0.5.0,>=0.4.6 in /usr/local/lib/python3.8/dist-packages (from pyasn1-modules>=0.2.1->google-auth<3,>=1.6.3->tensorboard<2.10,>=2.9->tensorflow==2.9.2->aimodelshare) (0.4.8)\n",
            "Requirement already satisfied: oauthlib>=3.0.0 in /usr/local/lib/python3.8/dist-packages (from requests-oauthlib>=0.7.0->google-auth-oauthlib<0.5,>=0.4.1->tensorboard<2.10,>=2.9->tensorflow==2.9.2->aimodelshare) (3.2.2)\n"
          ]
        }
      ]
    },
    {
      "cell_type": "code",
      "source": [
        "#Get competition data from course folder and unzip\n",
        "# importing the zipfile module\n",
        "from zipfile import ZipFile\n",
        "  \n",
        "# loading the temp.zip and creating a zip object\n",
        "with ZipFile(\"world_happiness_competition_data.zip\", 'r') as zObject:\n",
        "  \n",
        "    # Extracting all the members of the zip \n",
        "    # into a specific location.\n",
        "    zObject.extractall()\n"
      ],
      "metadata": {
        "id": "_Iw2N_D49L3p"
      },
      "execution_count": 91,
      "outputs": []
    },
    {
      "cell_type": "code",
      "source": [
        "# Load data\n",
        "import pandas as pd\n",
        "X_train = pd.read_csv('world_happiness_competition_data/X_train.csv')\n",
        "X_test = pd.read_csv('world_happiness_competition_data/X_test.csv')\n",
        "y_train = pd.read_csv('world_happiness_competition_data/y_train.csv')\n",
        "y_train_labels = y_train.idxmax(axis=1)\n",
        "\n",
        "X_train.head()"
      ],
      "metadata": {
        "colab": {
          "base_uri": "https://localhost:8080/",
          "height": 302
        },
        "id": "wnvV-_jX9gID",
        "outputId": "3b1a527d-e168-4ded-9b6b-410421998a5a"
      },
      "execution_count": 92,
      "outputs": [
        {
          "output_type": "execute_result",
          "data": {
            "text/plain": [
              "  Country or region  GDP per capita  Social support  Healthy life expectancy  \\\n",
              "0              Peru           0.960           1.274                    0.854   \n",
              "1         Nicaragua           0.694           1.325                    0.835   \n",
              "2            Greece           1.181           1.156                    0.999   \n",
              "3             Qatar           1.684           1.313                    0.871   \n",
              "4        Uzbekistan           0.745           1.529                    0.756   \n",
              "\n",
              "   Freedom to make life choices  Generosity  Perceptions of corruption  \\\n",
              "0                         0.455       0.083                      0.027   \n",
              "1                         0.435       0.200                      0.127   \n",
              "2                         0.067       0.000                      0.034   \n",
              "3                         0.555       0.220                      0.167   \n",
              "4                         0.631       0.322                      0.240   \n",
              "\n",
              "         name    region                       sub-region  Terrorist_attacks  \n",
              "0        Peru  Americas  Latin America and the Caribbean          18.000000  \n",
              "1   Nicaragua  Americas  Latin America and the Caribbean         125.611111  \n",
              "2      Greece    Europe                  Southern Europe         112.000000  \n",
              "3       Qatar      Asia                     Western Asia          57.333333  \n",
              "4  Uzbekistan      Asia                     Central Asia         125.611111  "
            ],
            "text/html": [
              "\n",
              "  <div id=\"df-b6dd21d9-ec6b-4f72-8597-20f722b02750\">\n",
              "    <div class=\"colab-df-container\">\n",
              "      <div>\n",
              "<style scoped>\n",
              "    .dataframe tbody tr th:only-of-type {\n",
              "        vertical-align: middle;\n",
              "    }\n",
              "\n",
              "    .dataframe tbody tr th {\n",
              "        vertical-align: top;\n",
              "    }\n",
              "\n",
              "    .dataframe thead th {\n",
              "        text-align: right;\n",
              "    }\n",
              "</style>\n",
              "<table border=\"1\" class=\"dataframe\">\n",
              "  <thead>\n",
              "    <tr style=\"text-align: right;\">\n",
              "      <th></th>\n",
              "      <th>Country or region</th>\n",
              "      <th>GDP per capita</th>\n",
              "      <th>Social support</th>\n",
              "      <th>Healthy life expectancy</th>\n",
              "      <th>Freedom to make life choices</th>\n",
              "      <th>Generosity</th>\n",
              "      <th>Perceptions of corruption</th>\n",
              "      <th>name</th>\n",
              "      <th>region</th>\n",
              "      <th>sub-region</th>\n",
              "      <th>Terrorist_attacks</th>\n",
              "    </tr>\n",
              "  </thead>\n",
              "  <tbody>\n",
              "    <tr>\n",
              "      <th>0</th>\n",
              "      <td>Peru</td>\n",
              "      <td>0.960</td>\n",
              "      <td>1.274</td>\n",
              "      <td>0.854</td>\n",
              "      <td>0.455</td>\n",
              "      <td>0.083</td>\n",
              "      <td>0.027</td>\n",
              "      <td>Peru</td>\n",
              "      <td>Americas</td>\n",
              "      <td>Latin America and the Caribbean</td>\n",
              "      <td>18.000000</td>\n",
              "    </tr>\n",
              "    <tr>\n",
              "      <th>1</th>\n",
              "      <td>Nicaragua</td>\n",
              "      <td>0.694</td>\n",
              "      <td>1.325</td>\n",
              "      <td>0.835</td>\n",
              "      <td>0.435</td>\n",
              "      <td>0.200</td>\n",
              "      <td>0.127</td>\n",
              "      <td>Nicaragua</td>\n",
              "      <td>Americas</td>\n",
              "      <td>Latin America and the Caribbean</td>\n",
              "      <td>125.611111</td>\n",
              "    </tr>\n",
              "    <tr>\n",
              "      <th>2</th>\n",
              "      <td>Greece</td>\n",
              "      <td>1.181</td>\n",
              "      <td>1.156</td>\n",
              "      <td>0.999</td>\n",
              "      <td>0.067</td>\n",
              "      <td>0.000</td>\n",
              "      <td>0.034</td>\n",
              "      <td>Greece</td>\n",
              "      <td>Europe</td>\n",
              "      <td>Southern Europe</td>\n",
              "      <td>112.000000</td>\n",
              "    </tr>\n",
              "    <tr>\n",
              "      <th>3</th>\n",
              "      <td>Qatar</td>\n",
              "      <td>1.684</td>\n",
              "      <td>1.313</td>\n",
              "      <td>0.871</td>\n",
              "      <td>0.555</td>\n",
              "      <td>0.220</td>\n",
              "      <td>0.167</td>\n",
              "      <td>Qatar</td>\n",
              "      <td>Asia</td>\n",
              "      <td>Western Asia</td>\n",
              "      <td>57.333333</td>\n",
              "    </tr>\n",
              "    <tr>\n",
              "      <th>4</th>\n",
              "      <td>Uzbekistan</td>\n",
              "      <td>0.745</td>\n",
              "      <td>1.529</td>\n",
              "      <td>0.756</td>\n",
              "      <td>0.631</td>\n",
              "      <td>0.322</td>\n",
              "      <td>0.240</td>\n",
              "      <td>Uzbekistan</td>\n",
              "      <td>Asia</td>\n",
              "      <td>Central Asia</td>\n",
              "      <td>125.611111</td>\n",
              "    </tr>\n",
              "  </tbody>\n",
              "</table>\n",
              "</div>\n",
              "      <button class=\"colab-df-convert\" onclick=\"convertToInteractive('df-b6dd21d9-ec6b-4f72-8597-20f722b02750')\"\n",
              "              title=\"Convert this dataframe to an interactive table.\"\n",
              "              style=\"display:none;\">\n",
              "        \n",
              "  <svg xmlns=\"http://www.w3.org/2000/svg\" height=\"24px\"viewBox=\"0 0 24 24\"\n",
              "       width=\"24px\">\n",
              "    <path d=\"M0 0h24v24H0V0z\" fill=\"none\"/>\n",
              "    <path d=\"M18.56 5.44l.94 2.06.94-2.06 2.06-.94-2.06-.94-.94-2.06-.94 2.06-2.06.94zm-11 1L8.5 8.5l.94-2.06 2.06-.94-2.06-.94L8.5 2.5l-.94 2.06-2.06.94zm10 10l.94 2.06.94-2.06 2.06-.94-2.06-.94-.94-2.06-.94 2.06-2.06.94z\"/><path d=\"M17.41 7.96l-1.37-1.37c-.4-.4-.92-.59-1.43-.59-.52 0-1.04.2-1.43.59L10.3 9.45l-7.72 7.72c-.78.78-.78 2.05 0 2.83L4 21.41c.39.39.9.59 1.41.59.51 0 1.02-.2 1.41-.59l7.78-7.78 2.81-2.81c.8-.78.8-2.07 0-2.86zM5.41 20L4 18.59l7.72-7.72 1.47 1.35L5.41 20z\"/>\n",
              "  </svg>\n",
              "      </button>\n",
              "      \n",
              "  <style>\n",
              "    .colab-df-container {\n",
              "      display:flex;\n",
              "      flex-wrap:wrap;\n",
              "      gap: 12px;\n",
              "    }\n",
              "\n",
              "    .colab-df-convert {\n",
              "      background-color: #E8F0FE;\n",
              "      border: none;\n",
              "      border-radius: 50%;\n",
              "      cursor: pointer;\n",
              "      display: none;\n",
              "      fill: #1967D2;\n",
              "      height: 32px;\n",
              "      padding: 0 0 0 0;\n",
              "      width: 32px;\n",
              "    }\n",
              "\n",
              "    .colab-df-convert:hover {\n",
              "      background-color: #E2EBFA;\n",
              "      box-shadow: 0px 1px 2px rgba(60, 64, 67, 0.3), 0px 1px 3px 1px rgba(60, 64, 67, 0.15);\n",
              "      fill: #174EA6;\n",
              "    }\n",
              "\n",
              "    [theme=dark] .colab-df-convert {\n",
              "      background-color: #3B4455;\n",
              "      fill: #D2E3FC;\n",
              "    }\n",
              "\n",
              "    [theme=dark] .colab-df-convert:hover {\n",
              "      background-color: #434B5C;\n",
              "      box-shadow: 0px 1px 3px 1px rgba(0, 0, 0, 0.15);\n",
              "      filter: drop-shadow(0px 1px 2px rgba(0, 0, 0, 0.3));\n",
              "      fill: #FFFFFF;\n",
              "    }\n",
              "  </style>\n",
              "\n",
              "      <script>\n",
              "        const buttonEl =\n",
              "          document.querySelector('#df-b6dd21d9-ec6b-4f72-8597-20f722b02750 button.colab-df-convert');\n",
              "        buttonEl.style.display =\n",
              "          google.colab.kernel.accessAllowed ? 'block' : 'none';\n",
              "\n",
              "        async function convertToInteractive(key) {\n",
              "          const element = document.querySelector('#df-b6dd21d9-ec6b-4f72-8597-20f722b02750');\n",
              "          const dataTable =\n",
              "            await google.colab.kernel.invokeFunction('convertToInteractive',\n",
              "                                                     [key], {});\n",
              "          if (!dataTable) return;\n",
              "\n",
              "          const docLinkHtml = 'Like what you see? Visit the ' +\n",
              "            '<a target=\"_blank\" href=https://colab.research.google.com/notebooks/data_table.ipynb>data table notebook</a>'\n",
              "            + ' to learn more about interactive tables.';\n",
              "          element.innerHTML = '';\n",
              "          dataTable['output_type'] = 'display_data';\n",
              "          await google.colab.output.renderOutput(dataTable, element);\n",
              "          const docLink = document.createElement('div');\n",
              "          docLink.innerHTML = docLinkHtml;\n",
              "          element.appendChild(docLink);\n",
              "        }\n",
              "      </script>\n",
              "    </div>\n",
              "  </div>\n",
              "  "
            ]
          },
          "metadata": {},
          "execution_count": 92
        }
      ]
    },
    {
      "cell_type": "code",
      "source": [
        "y_train"
      ],
      "metadata": {
        "colab": {
          "base_uri": "https://localhost:8080/",
          "height": 424
        },
        "id": "Ofvx18nnF8YZ",
        "outputId": "1b0023d2-61f0-4bb8-eb40-50076174ebe5"
      },
      "execution_count": 163,
      "outputs": [
        {
          "output_type": "execute_result",
          "data": {
            "text/plain": [
              "    Average  High  Low  Very High  Very Low\n",
              "0         1     0    0          0         0\n",
              "1         0     1    0          0         0\n",
              "2         1     0    0          0         0\n",
              "3         0     0    0          1         0\n",
              "4         0     1    0          0         0\n",
              "..      ...   ...  ...        ...       ...\n",
              "83        1     0    0          0         0\n",
              "84        0     0    1          0         0\n",
              "85        0     0    0          1         0\n",
              "86        1     0    0          0         0\n",
              "87        0     0    1          0         0\n",
              "\n",
              "[88 rows x 5 columns]"
            ],
            "text/html": [
              "\n",
              "  <div id=\"df-51760e97-68af-41bd-970e-a2d87eb633a7\">\n",
              "    <div class=\"colab-df-container\">\n",
              "      <div>\n",
              "<style scoped>\n",
              "    .dataframe tbody tr th:only-of-type {\n",
              "        vertical-align: middle;\n",
              "    }\n",
              "\n",
              "    .dataframe tbody tr th {\n",
              "        vertical-align: top;\n",
              "    }\n",
              "\n",
              "    .dataframe thead th {\n",
              "        text-align: right;\n",
              "    }\n",
              "</style>\n",
              "<table border=\"1\" class=\"dataframe\">\n",
              "  <thead>\n",
              "    <tr style=\"text-align: right;\">\n",
              "      <th></th>\n",
              "      <th>Average</th>\n",
              "      <th>High</th>\n",
              "      <th>Low</th>\n",
              "      <th>Very High</th>\n",
              "      <th>Very Low</th>\n",
              "    </tr>\n",
              "  </thead>\n",
              "  <tbody>\n",
              "    <tr>\n",
              "      <th>0</th>\n",
              "      <td>1</td>\n",
              "      <td>0</td>\n",
              "      <td>0</td>\n",
              "      <td>0</td>\n",
              "      <td>0</td>\n",
              "    </tr>\n",
              "    <tr>\n",
              "      <th>1</th>\n",
              "      <td>0</td>\n",
              "      <td>1</td>\n",
              "      <td>0</td>\n",
              "      <td>0</td>\n",
              "      <td>0</td>\n",
              "    </tr>\n",
              "    <tr>\n",
              "      <th>2</th>\n",
              "      <td>1</td>\n",
              "      <td>0</td>\n",
              "      <td>0</td>\n",
              "      <td>0</td>\n",
              "      <td>0</td>\n",
              "    </tr>\n",
              "    <tr>\n",
              "      <th>3</th>\n",
              "      <td>0</td>\n",
              "      <td>0</td>\n",
              "      <td>0</td>\n",
              "      <td>1</td>\n",
              "      <td>0</td>\n",
              "    </tr>\n",
              "    <tr>\n",
              "      <th>4</th>\n",
              "      <td>0</td>\n",
              "      <td>1</td>\n",
              "      <td>0</td>\n",
              "      <td>0</td>\n",
              "      <td>0</td>\n",
              "    </tr>\n",
              "    <tr>\n",
              "      <th>...</th>\n",
              "      <td>...</td>\n",
              "      <td>...</td>\n",
              "      <td>...</td>\n",
              "      <td>...</td>\n",
              "      <td>...</td>\n",
              "    </tr>\n",
              "    <tr>\n",
              "      <th>83</th>\n",
              "      <td>1</td>\n",
              "      <td>0</td>\n",
              "      <td>0</td>\n",
              "      <td>0</td>\n",
              "      <td>0</td>\n",
              "    </tr>\n",
              "    <tr>\n",
              "      <th>84</th>\n",
              "      <td>0</td>\n",
              "      <td>0</td>\n",
              "      <td>1</td>\n",
              "      <td>0</td>\n",
              "      <td>0</td>\n",
              "    </tr>\n",
              "    <tr>\n",
              "      <th>85</th>\n",
              "      <td>0</td>\n",
              "      <td>0</td>\n",
              "      <td>0</td>\n",
              "      <td>1</td>\n",
              "      <td>0</td>\n",
              "    </tr>\n",
              "    <tr>\n",
              "      <th>86</th>\n",
              "      <td>1</td>\n",
              "      <td>0</td>\n",
              "      <td>0</td>\n",
              "      <td>0</td>\n",
              "      <td>0</td>\n",
              "    </tr>\n",
              "    <tr>\n",
              "      <th>87</th>\n",
              "      <td>0</td>\n",
              "      <td>0</td>\n",
              "      <td>1</td>\n",
              "      <td>0</td>\n",
              "      <td>0</td>\n",
              "    </tr>\n",
              "  </tbody>\n",
              "</table>\n",
              "<p>88 rows × 5 columns</p>\n",
              "</div>\n",
              "      <button class=\"colab-df-convert\" onclick=\"convertToInteractive('df-51760e97-68af-41bd-970e-a2d87eb633a7')\"\n",
              "              title=\"Convert this dataframe to an interactive table.\"\n",
              "              style=\"display:none;\">\n",
              "        \n",
              "  <svg xmlns=\"http://www.w3.org/2000/svg\" height=\"24px\"viewBox=\"0 0 24 24\"\n",
              "       width=\"24px\">\n",
              "    <path d=\"M0 0h24v24H0V0z\" fill=\"none\"/>\n",
              "    <path d=\"M18.56 5.44l.94 2.06.94-2.06 2.06-.94-2.06-.94-.94-2.06-.94 2.06-2.06.94zm-11 1L8.5 8.5l.94-2.06 2.06-.94-2.06-.94L8.5 2.5l-.94 2.06-2.06.94zm10 10l.94 2.06.94-2.06 2.06-.94-2.06-.94-.94-2.06-.94 2.06-2.06.94z\"/><path d=\"M17.41 7.96l-1.37-1.37c-.4-.4-.92-.59-1.43-.59-.52 0-1.04.2-1.43.59L10.3 9.45l-7.72 7.72c-.78.78-.78 2.05 0 2.83L4 21.41c.39.39.9.59 1.41.59.51 0 1.02-.2 1.41-.59l7.78-7.78 2.81-2.81c.8-.78.8-2.07 0-2.86zM5.41 20L4 18.59l7.72-7.72 1.47 1.35L5.41 20z\"/>\n",
              "  </svg>\n",
              "      </button>\n",
              "      \n",
              "  <style>\n",
              "    .colab-df-container {\n",
              "      display:flex;\n",
              "      flex-wrap:wrap;\n",
              "      gap: 12px;\n",
              "    }\n",
              "\n",
              "    .colab-df-convert {\n",
              "      background-color: #E8F0FE;\n",
              "      border: none;\n",
              "      border-radius: 50%;\n",
              "      cursor: pointer;\n",
              "      display: none;\n",
              "      fill: #1967D2;\n",
              "      height: 32px;\n",
              "      padding: 0 0 0 0;\n",
              "      width: 32px;\n",
              "    }\n",
              "\n",
              "    .colab-df-convert:hover {\n",
              "      background-color: #E2EBFA;\n",
              "      box-shadow: 0px 1px 2px rgba(60, 64, 67, 0.3), 0px 1px 3px 1px rgba(60, 64, 67, 0.15);\n",
              "      fill: #174EA6;\n",
              "    }\n",
              "\n",
              "    [theme=dark] .colab-df-convert {\n",
              "      background-color: #3B4455;\n",
              "      fill: #D2E3FC;\n",
              "    }\n",
              "\n",
              "    [theme=dark] .colab-df-convert:hover {\n",
              "      background-color: #434B5C;\n",
              "      box-shadow: 0px 1px 3px 1px rgba(0, 0, 0, 0.15);\n",
              "      filter: drop-shadow(0px 1px 2px rgba(0, 0, 0, 0.3));\n",
              "      fill: #FFFFFF;\n",
              "    }\n",
              "  </style>\n",
              "\n",
              "      <script>\n",
              "        const buttonEl =\n",
              "          document.querySelector('#df-51760e97-68af-41bd-970e-a2d87eb633a7 button.colab-df-convert');\n",
              "        buttonEl.style.display =\n",
              "          google.colab.kernel.accessAllowed ? 'block' : 'none';\n",
              "\n",
              "        async function convertToInteractive(key) {\n",
              "          const element = document.querySelector('#df-51760e97-68af-41bd-970e-a2d87eb633a7');\n",
              "          const dataTable =\n",
              "            await google.colab.kernel.invokeFunction('convertToInteractive',\n",
              "                                                     [key], {});\n",
              "          if (!dataTable) return;\n",
              "\n",
              "          const docLinkHtml = 'Like what you see? Visit the ' +\n",
              "            '<a target=\"_blank\" href=https://colab.research.google.com/notebooks/data_table.ipynb>data table notebook</a>'\n",
              "            + ' to learn more about interactive tables.';\n",
              "          element.innerHTML = '';\n",
              "          dataTable['output_type'] = 'display_data';\n",
              "          await google.colab.output.renderOutput(dataTable, element);\n",
              "          const docLink = document.createElement('div');\n",
              "          docLink.innerHTML = docLinkHtml;\n",
              "          element.appendChild(docLink);\n",
              "        }\n",
              "      </script>\n",
              "    </div>\n",
              "  </div>\n",
              "  "
            ]
          },
          "metadata": {},
          "execution_count": 163
        }
      ]
    },
    {
      "cell_type": "code",
      "source": [
        "y_train_labels"
      ],
      "metadata": {
        "colab": {
          "base_uri": "https://localhost:8080/"
        },
        "id": "-rlTX34CEp8p",
        "outputId": "d18163aa-dafd-43b2-95ab-2915e2c05c15"
      },
      "execution_count": 162,
      "outputs": [
        {
          "output_type": "execute_result",
          "data": {
            "text/plain": [
              "0       Average\n",
              "1          High\n",
              "2       Average\n",
              "3     Very High\n",
              "4          High\n",
              "        ...    \n",
              "83      Average\n",
              "84          Low\n",
              "85    Very High\n",
              "86      Average\n",
              "87          Low\n",
              "Length: 88, dtype: object"
            ]
          },
          "metadata": {},
          "execution_count": 162
        }
      ]
    },
    {
      "cell_type": "code",
      "source": [
        "plt.scatter(X_train['Social support'], y_train_labels)"
      ],
      "metadata": {
        "colab": {
          "base_uri": "https://localhost:8080/",
          "height": 283
        },
        "id": "r0GADS-hCAOE",
        "outputId": "bf9f2219-b711-4b25-c899-3826c8ea44d6"
      },
      "execution_count": 169,
      "outputs": [
        {
          "output_type": "execute_result",
          "data": {
            "text/plain": [
              "<matplotlib.collections.PathCollection at 0x7fe4e40e09d0>"
            ]
          },
          "metadata": {},
          "execution_count": 169
        },
        {
          "output_type": "display_data",
          "data": {
            "text/plain": [
              "<Figure size 432x288 with 1 Axes>"
            ],
            "image/png": "[encoded data removed]"
          },
          "metadata": {
            "needs_background": "light"
          }
        }
      ]
    },
    {
      "cell_type": "code",
      "source": [
        "plt.scatter(X_train['GDP per capita'], y_train_labels)"
      ],
      "metadata": {
        "colab": {
          "base_uri": "https://localhost:8080/",
          "height": 283
        },
        "id": "_rEUtAedFdEo",
        "outputId": "ad7517a0-da80-47d9-d42f-0fddfa436221"
      },
      "execution_count": 160,
      "outputs": [
        {
          "output_type": "execute_result",
          "data": {
            "text/plain": [
              "<matplotlib.collections.PathCollection at 0x7fe4e4250730>"
            ]
          },
          "metadata": {},
          "execution_count": 160
        },
        {
          "output_type": "display_data",
          "data": {
            "text/plain": [
              "<Figure size 432x288 with 1 Axes>"
            ],
            "image/png": "[encoded data removed]"
          },
          "metadata": {
            "needs_background": "light"
          }
        }
      ]
    },
    {
      "cell_type": "code",
      "source": [
        "plt.scatter(X_train['Healthy life expectancy'], y_train_labels)"
      ],
      "metadata": {
        "colab": {
          "base_uri": "https://localhost:8080/",
          "height": 283
        },
        "id": "MztaiYEvF56e",
        "outputId": "fbac4817-1684-4502-b9d1-da98f1a8b8fb"
      },
      "execution_count": 164,
      "outputs": [
        {
          "output_type": "execute_result",
          "data": {
            "text/plain": [
              "<matplotlib.collections.PathCollection at 0x7fe4e421bf40>"
            ]
          },
          "metadata": {},
          "execution_count": 164
        },
        {
          "output_type": "display_data",
          "data": {
            "text/plain": [
              "<Figure size 432x288 with 1 Axes>"
            ],
            "image/png": "[encoded data removed]"
          },
          "metadata": {
            "needs_background": "light"
          }
        }
      ]
    },
    {
      "cell_type": "markdown",
      "source": [
        "### Describe any relationships you see between particular features and the target variable\n"
      ],
      "metadata": {
        "id": "1zzl9rPoJLGz"
      }
    },
    {
      "cell_type": "markdown",
      "source": [
        "#### Based on the bivariate visualizations, we see that countries that thrive better economically and socially (as shown through GDP, social support, and life expectancy) tend to display higher levels of Happiness."
      ],
      "metadata": {
        "id": "ec83jElHB_oD"
      }
    },
    {
      "cell_type": "markdown",
      "source": [
        "### Examine features that predict happiness categories using one or more models that allow for automatic feature selection."
      ],
      "metadata": {
        "id": "sr4o5iHBJQsS"
      }
    },
    {
      "cell_type": "code",
      "source": [
        "from sklearn.inspection import permutation_importance\n",
        "\n",
        "rf = Pipeline([\n",
        "    ('preprocess', preprocess),\n",
        "    # put your model below\n",
        "    ('classifier', RandomForestClassifier(n_estimators=500, max_depth=7))\n",
        "])\n",
        "\n",
        "rf.fit(X_train, y_train)\n",
        "\n",
        "result = permutation_importance(rf, X_train, y_train, n_repeats=10,\n",
        "                                random_state=42, n_jobs=2)\n",
        "\n",
        "sorted_importances_idx = result.importances_mean.argsort()\n",
        "importances = pd.DataFrame(\n",
        "    result.importances[sorted_importances_idx].T,\n",
        "    columns=X_train.columns[sorted_importances_idx],\n",
        ")\n",
        "ax = importances.plot.box(vert=False, whis=10)\n",
        "ax.set_title(\"Permutation Importances \")\n",
        "ax.axvline(x=0, color=\"k\", linestyle=\"--\")\n",
        "ax.set_xlabel(\"Decrease in accuracy score\")\n",
        "ax.figure.tight_layout()"
      ],
      "metadata": {
        "colab": {
          "base_uri": "https://localhost:8080/",
          "height": 297
        },
        "id": "JhNMI-qcAW5N",
        "outputId": "c96cdfe9-082c-4b07-fbc9-5141bcf646ec"
      },
      "execution_count": 149,
      "outputs": [
        {
          "output_type": "display_data",
          "data": {
            "text/plain": [
              "<Figure size 432x288 with 1 Axes>"
            ],
            "image/png": "[encoded data removed]"
          },
          "metadata": {
            "needs_background": "light"
          }
        }
      ]
    },
    {
      "cell_type": "markdown",
      "source": [
        "### Meaningful findings"
      ],
      "metadata": {
        "id": "VbO76zvQKvWQ"
      }
    },
    {
      "cell_type": "markdown",
      "source": [
        "#### Using random forest classifier, based on the figure above, we see that the features region, generosity, and terrorist attacks are the most important features when trying to predict happiness. This is because we see that they have smaller decreases in their accuracy score, suggesting that they are reliable features in predicting happiness. Also, region had the smallest boxplot, suggesting a small standard deviation, which tells us that the region of where the country is also matters in happiness prediction."
      ],
      "metadata": {
        "id": "tF_084f8K1hF"
      }
    },
    {
      "cell_type": "markdown",
      "source": [
        "### Experiment with different prediction models to try to predict World Happiness well (Fit and compare, at minimum, three models)"
      ],
      "metadata": {
        "id": "KLUpznP5KyaE"
      }
    },
    {
      "cell_type": "code",
      "source": [
        "# Preprocessing data \n",
        "\n",
        "from sklearn.preprocessing import StandardScaler, OneHotEncoder\n",
        "from sklearn.compose import ColumnTransformer, make_column_transformer\n",
        "from sklearn.pipeline import Pipeline\n",
        "from sklearn.impute import SimpleImputer\n",
        "from sklearn.preprocessing import StandardScaler, OneHotEncoder\n",
        "\n",
        "# We create the preprocessing pipelines for both numeric and categorical data.\n",
        "\n",
        "numeric_features = X_train.drop(['Country or region', 'name', 'region', 'sub-region'], axis=1)\n",
        "numeric_features=numeric_features.columns.tolist()\n",
        "\n",
        "numeric_transformer = Pipeline(steps=[\n",
        "    ('imputer', SimpleImputer(strategy='median')),\n",
        "    ('scaler', StandardScaler())])\n",
        "\n",
        "categorical_features = ['region', 'sub-region']\n",
        "\n",
        "#Replacing missing values with Modal value and then one hot encoding.\n",
        "categorical_transformer = Pipeline(steps=[\n",
        "    ('imputer', SimpleImputer(strategy='most_frequent')),\n",
        "    ('onehot', OneHotEncoder(handle_unknown='ignore'))])\n",
        "\n",
        "# final preprocessor object set up with ColumnTransformer\n",
        "preprocessor = ColumnTransformer(\n",
        "    transformers=[\n",
        "        ('num', numeric_transformer, numeric_features),\n",
        "        ('cat', categorical_transformer, categorical_features)])\n",
        "\n",
        "#Fit your preprocessor object\n",
        "preprocess=preprocessor.fit(X_train) "
      ],
      "metadata": {
        "id": "e9Bmu_L89j7W"
      },
      "execution_count": 93,
      "outputs": []
    },
    {
      "cell_type": "code",
      "source": [
        "# Write function to transform data with preprocessor\n",
        "\n",
        "def preprocessor(data):\n",
        "    data.drop(['Country or region', 'name'], axis=1)\n",
        "    preprocessed_data=preprocess.transform(data)\n",
        "    return preprocessed_data"
      ],
      "metadata": {
        "id": "pFUXB0C79j_O"
      },
      "execution_count": 94,
      "outputs": []
    },
    {
      "cell_type": "code",
      "source": [
        "# check shape of X data after preprocessing it using our new function\n",
        "preprocessor(X_train).shape"
      ],
      "metadata": {
        "colab": {
          "base_uri": "https://localhost:8080/"
        },
        "id": "Z6lsQwhU-M9u",
        "outputId": "44c2dd86-1836-4a87-cafe-d888f1cf9cf0"
      },
      "execution_count": 95,
      "outputs": [
        {
          "output_type": "execute_result",
          "data": {
            "text/plain": [
              "(88, 26)"
            ]
          },
          "metadata": {},
          "execution_count": 95
        }
      ]
    },
    {
      "cell_type": "markdown",
      "source": [
        "## MODEL 1: RANDOM FOREST CLASSIFIER"
      ],
      "metadata": {
        "id": "yqc5MwObdN3a"
      }
    },
    {
      "cell_type": "code",
      "source": [
        "from sklearn.ensemble import RandomForestClassifier\n",
        "\n",
        "model = RandomForestClassifier(n_estimators=500, max_depth=7)\n",
        "model.fit(preprocessor(X_train), y_train_labels) # Fitting to the training set.\n",
        "model.score(preprocessor(X_train), y_train_labels) # Fit score, 0-1 scale."
      ],
      "metadata": {
        "colab": {
          "base_uri": "https://localhost:8080/"
        },
        "id": "TAG4vcjc-Ob-",
        "outputId": "99154f61-fd1b-4e36-c6b5-bfd16f4e6b43"
      },
      "execution_count": 96,
      "outputs": [
        {
          "output_type": "execute_result",
          "data": {
            "text/plain": [
              "1.0"
            ]
          },
          "metadata": {},
          "execution_count": 96
        }
      ]
    },
    {
      "cell_type": "code",
      "source": [
        "import aimodelshare as ai\n",
        "ai.export_preprocessor(preprocessor,\"\") "
      ],
      "metadata": {
        "colab": {
          "base_uri": "https://localhost:8080/"
        },
        "id": "gBV9KVoFawIT",
        "outputId": "e0fcef7b-b84e-47fe-f556-430ab28fd19e"
      },
      "execution_count": 97,
      "outputs": [
        {
          "output_type": "stream",
          "name": "stdout",
          "text": [
            "Your preprocessor is now saved to 'preprocessor.zip'\n"
          ]
        }
      ]
    },
    {
      "cell_type": "code",
      "source": [
        "# Save sklearn model to local ONNX file\n",
        "from aimodelshare.aimsonnx import model_to_onnx\n",
        "\n",
        "# Check how many preprocessed input features are there?\n",
        "from skl2onnx.common.data_types import FloatTensorType\n",
        "\n",
        "feature_count=preprocessor(X_test).shape[1] #Get count of preprocessed features\n",
        "initial_type = [('float_input', FloatTensorType([None, feature_count]))]  #Insert correct number of preprocessed features\n",
        "\n",
        "onnx_model = model_to_onnx(model, framework='sklearn',\n",
        "                          initial_types=initial_type,\n",
        "                          transfer_learning=False,\n",
        "                          deep_learning=False)\n",
        "\n",
        "with open(\"model.onnx\", \"wb\") as f:\n",
        "    f.write(onnx_model.SerializeToString())"
      ],
      "metadata": {
        "id": "Pi-QCD44a8N2"
      },
      "execution_count": 98,
      "outputs": []
    },
    {
      "cell_type": "code",
      "source": [
        "#Set credentials using modelshare.org username/password\n",
        "\n",
        "from aimodelshare.aws import set_credentials\n",
        "\n",
        "#This is the unique rest api that powers this World Happiness Classification Playground -- make sure to update the apiurl for new competition deployments\n",
        "apiurl=\"https://e2w6gh3id1.execute-api.us-east-2.amazonaws.com/prod/m\"\n",
        "\n",
        "set_credentials(apiurl=apiurl)"
      ],
      "metadata": {
        "colab": {
          "base_uri": "https://localhost:8080/"
        },
        "id": "ED7KMnaubBhJ",
        "outputId": "1bbf0622-bc27-4287-8fe7-374500b01837"
      },
      "execution_count": 22,
      "outputs": [
        {
          "output_type": "stream",
          "name": "stdout",
          "text": [
            "AI Modelshare Username:··········\n",
            "AI Modelshare Password:··········\n",
            "AI Model Share login credentials set successfully.\n"
          ]
        }
      ]
    },
    {
      "cell_type": "code",
      "source": [
        "#Instantiate Competition\n",
        "import aimodelshare as ai\n",
        "mycompetition= ai.Competition(apiurl)"
      ],
      "metadata": {
        "id": "qR_ATXovbDLY"
      },
      "execution_count": 23,
      "outputs": []
    },
    {
      "cell_type": "code",
      "source": [
        "#Submit Model 1: \n",
        "\n",
        "#-- Generate predicted values (Model 1)\n",
        "prediction_labels = model.predict(preprocessor(X_test))\n",
        "\n",
        "# Submit Model 1 to Competition Leaderboard\n",
        "mycompetition.submit_model(model_filepath = \"model.onnx\",\n",
        "                                 preprocessor_filepath=\"preprocessor.zip\",\n",
        "                                 prediction_submission=prediction_labels,\n",
        "                                  custom_metadata={'team': '2'})"
      ],
      "metadata": {
        "colab": {
          "base_uri": "https://localhost:8080/"
        },
        "id": "86hZq9QLbGXI",
        "outputId": "60d10652-be14-4c98-f9cf-add47ecbc9e7"
      },
      "execution_count": 24,
      "outputs": [
        {
          "output_type": "stream",
          "name": "stdout",
          "text": [
            "Insert search tags to help users find your model (optional): \n",
            "Provide any useful notes about your model (optional): \n",
            "\n",
            "Your model has been submitted as model version 522\n",
            "\n",
            "To submit code used to create this model or to view current leaderboard navigate to Model Playground: \n",
            "\n",
            " https://www.modelshare.org/detail/model:3164\n"
          ]
        }
      ]
    },
    {
      "cell_type": "markdown",
      "source": [
        "## MODEL 2: LOGISTIC REGRESSION"
      ],
      "metadata": {
        "id": "Gts4_hY3dMI5"
      }
    },
    {
      "cell_type": "code",
      "source": [
        "# Running GridSearch to find parameter\n",
        "\n",
        "from sklearn.linear_model import LogisticRegression\n",
        "\n",
        "lrparam_grid = {'C': [0.001, 0.01, 0.1, 1, 10, 100, 1000, 2000]}\n",
        "lrgrid = GridSearchCV(LogisticRegression(max_iter = 1000), param_grid=lrparam_grid)\n",
        "lrgrid.fit(preprocessor(X_train), y_train_labels)\n",
        "print(\"best mean cross-validation score: {:.3f}\".format(lrgrid.best_score_))\n",
        "print(\"best parameters: {}\".format(lrgrid.best_params_))"
      ],
      "metadata": {
        "colab": {
          "base_uri": "https://localhost:8080/"
        },
        "id": "g8UEE9Go8Qt5",
        "outputId": "8a56f990-7b46-4d27-dcbd-e0ede3ba9700"
      },
      "execution_count": 132,
      "outputs": [
        {
          "output_type": "stream",
          "name": "stdout",
          "text": [
            "best mean cross-validation score: 0.694\n",
            "best parameters: {'C': 1}\n"
          ]
        }
      ]
    },
    {
      "cell_type": "code",
      "source": [
        "model_2 = LogisticRegression(C=1)\n",
        "model_2.fit(preprocessor(X_train), y_train_labels) # Fitting to the training set.\n",
        "model_2.score(preprocessor(X_train), y_train_labels) # Fit score, 0-1 scale."
      ],
      "metadata": {
        "colab": {
          "base_uri": "https://localhost:8080/"
        },
        "id": "UYgu-TxTbIla",
        "outputId": "d81ad901-91f9-416f-bb4e-3c3785993a13"
      },
      "execution_count": 133,
      "outputs": [
        {
          "output_type": "execute_result",
          "data": {
            "text/plain": [
              "0.8068181818181818"
            ]
          },
          "metadata": {},
          "execution_count": 133
        }
      ]
    },
    {
      "cell_type": "code",
      "source": [
        "print(\"logreg .coef_: {}\".format(model_2 .coef_))"
      ],
      "metadata": {
        "colab": {
          "base_uri": "https://localhost:8080/"
        },
        "id": "YIVt4c23kCbQ",
        "outputId": "b9a1ac29-3e0f-406e-b4d8-4462825c3396"
      },
      "execution_count": 134,
      "outputs": [
        {
          "output_type": "stream",
          "name": "stdout",
          "text": [
            "logreg .coef_: [[-1.12819771e-01 -3.41299192e-01 -4.20548985e-02 -2.05152575e-01\n",
            "  -2.44896291e-01  8.64650814e-02  6.18412225e-01 -4.30798653e-02\n",
            "  -2.76894113e-01  7.50178794e-02  2.52837188e-01 -8.09775256e-03\n",
            "  -8.09775256e-03  2.94904647e-01  1.95101865e-01  2.17717029e-01\n",
            "  -2.69886858e-01  4.14205886e-01 -7.00725431e-03 -3.38210517e-01\n",
            "   2.34517323e-01 -5.07975957e-01  5.12911560e-01 -4.57285751e-01\n",
            "  -1.41529998e-01 -1.39580884e-01]\n",
            " [ 4.46389260e-01  1.20170364e+00  7.93103480e-01  5.95995626e-01\n",
            "  -4.08197355e-01 -3.10038634e-01 -2.31738441e-01 -2.86802791e-01\n",
            "   2.12423728e-01  2.32633136e-01 -9.07298486e-02 -6.74401885e-02\n",
            "  -6.74401885e-02  4.98565468e-01  1.77228479e-01  5.38796279e-01\n",
            "   3.35720408e-01 -1.06579563e-01 -1.23296680e-01  1.86005237e-01\n",
            "   3.43968381e-01 -3.66253314e-01 -2.19822885e-01 -1.80223228e-01\n",
            "  -4.20875879e-01 -5.95708479e-01]\n",
            " [-4.40589476e-01 -6.08281679e-01 -7.53149752e-01 -2.67356612e-01\n",
            "  -3.43802383e-01 -6.03834584e-01 -8.62465858e-01  3.20433141e-02\n",
            "  -1.05318636e-01  4.43397376e-01 -3.69948061e-01 -1.54405868e-04\n",
            "  -1.54405868e-04 -3.39201165e-01 -2.66913415e-01 -4.32974286e-01\n",
            "  -1.05039494e-01 -5.21846585e-01 -2.79142885e-04 -8.30945922e-02\n",
            "   6.48615824e-02  5.69261943e-01  1.52996622e-01  5.53889899e-01\n",
            "   4.15388431e-01 -6.87580497e-03]\n",
            " [ 1.40914004e+00  5.85240959e-01  6.26988172e-01  6.26074532e-01\n",
            "   7.41531550e-01  4.26424911e-01 -3.25772803e-01 -5.00590921e-02\n",
            "   3.52747788e-01 -8.66927313e-01  4.87903850e-01  7.60293941e-02\n",
            "   7.60293941e-02 -1.62215666e-01 -7.67998941e-02 -2.23675153e-01\n",
            "   2.21983104e-01 -2.20399451e-02  1.30764684e-01  2.44740879e-01\n",
            "  -8.18204074e-01 -6.74951917e-02 -2.76663692e-01 -2.80191469e-02\n",
            "   2.57787512e-01  7.43501816e-01]\n",
            " [-1.30212006e+00 -8.37363732e-01 -6.24887001e-01 -7.49560971e-01\n",
            "   2.55364480e-01  4.00983226e-01  8.01564876e-01  3.47898435e-01\n",
            "  -1.82958767e-01  1.15878922e-01 -2.80063129e-01 -3.37047165e-04\n",
            "  -3.37047165e-04 -2.92053284e-01 -2.86170342e-02 -9.98638692e-02\n",
            "  -1.82777160e-01  2.36260207e-01 -1.81606876e-04 -9.44100682e-03\n",
            "   1.74856788e-01  3.72462519e-01 -1.69421606e-01  1.11638227e-01\n",
            "  -1.10770067e-01 -1.33664712e-03]]\n"
          ]
        }
      ]
    },
    {
      "cell_type": "code",
      "source": [
        "# Save sklearn model to local ONNX file\n",
        "from aimodelshare.aimsonnx import model_to_onnx\n",
        "\n",
        "# Check how many preprocessed input features are there\n",
        "from skl2onnx.common.data_types import FloatTensorType\n",
        "\n",
        "feature_count=preprocessor(X_test).shape[1] #Get count of preprocessed features\n",
        "initial_type = [('float_input', FloatTensorType([None, feature_count]))]  #Insert correct number of preprocessed features\n",
        "\n",
        "onnx_model = model_to_onnx(model_2, framework='sklearn',\n",
        "                          initial_types=initial_type,\n",
        "                          transfer_learning=False,\n",
        "                          deep_learning=False)\n",
        "\n",
        "with open(\"model2.onnx\", \"wb\") as f:\n",
        "    f.write(onnx_model.SerializeToString())"
      ],
      "metadata": {
        "id": "kBjWo3sbd7FA"
      },
      "execution_count": 135,
      "outputs": []
    },
    {
      "cell_type": "code",
      "source": [
        "#Submit Model 2: \n",
        "\n",
        "#-- Generate predicted y values (Model 2)\n",
        "prediction_labels = model_2.predict(preprocessor(X_test))\n",
        "\n",
        "# Submit Model 2 to Competition Leaderboard\n",
        "mycompetition.submit_model(model_filepath = \"model2.onnx\",\n",
        "                                 preprocessor_filepath=\"preprocessor.zip\",\n",
        "                                 prediction_submission=prediction_labels,\n",
        "                                  custom_metadata={'team': '2'})"
      ],
      "metadata": {
        "colab": {
          "base_uri": "https://localhost:8080/"
        },
        "id": "pn1Tphy9dU3n",
        "outputId": "137b6e3a-03c4-4908-a113-cf269e8148b3"
      },
      "execution_count": 136,
      "outputs": [
        {
          "output_type": "stream",
          "name": "stdout",
          "text": [
            "Insert search tags to help users find your model (optional): \n",
            "Provide any useful notes about your model (optional): \n",
            "\n",
            "Your model has been submitted as model version 601\n",
            "\n",
            "To submit code used to create this model or to view current leaderboard navigate to Model Playground: \n",
            "\n",
            " https://www.modelshare.org/detail/model:3164\n"
          ]
        }
      ]
    },
    {
      "cell_type": "markdown",
      "source": [
        "## MODEL 3: SVC"
      ],
      "metadata": {
        "id": "0GZTUO2wgWxr"
      }
    },
    {
      "cell_type": "code",
      "source": [
        "from sklearn.svm import SVC\n",
        "model3 = SVC(kernel='linear')\n",
        "\n",
        "model3.fit(preprocessor(X_train), y_train_labels)\n"
      ],
      "metadata": {
        "colab": {
          "base_uri": "https://localhost:8080/"
        },
        "id": "fwZtHpA7g2-N",
        "outputId": "7177b4c5-9dd6-4a3f-d0db-8effb9f92c26"
      },
      "execution_count": 49,
      "outputs": [
        {
          "output_type": "execute_result",
          "data": {
            "text/plain": [
              "SVC(kernel='linear')"
            ]
          },
          "metadata": {},
          "execution_count": 49
        }
      ]
    },
    {
      "cell_type": "code",
      "source": [
        "# Tuning for best parameters\n",
        "from sklearn.model_selection import GridSearchCV\n",
        "svmparam_grid = {'C': [1, 5, 10, 50],'gamma': [0.0001, 0.0005, 0.001, 0.005]}\n",
        "\n",
        "svmgrid = GridSearchCV(model3, svmparam_grid)\n",
        "\n",
        "svmgrid.fit(preprocessor(X_train), y_train_labels)\n",
        "print(\"best mean cross-validation score: {:.3f}\".format(svmgrid.best_score_))\n",
        "print(svmgrid.best_params_)\n",
        "print(svmgrid.best_estimator_)"
      ],
      "metadata": {
        "colab": {
          "base_uri": "https://localhost:8080/"
        },
        "id": "dDRVu2rcdxAN",
        "outputId": "e8e9cd5d-ef0c-43b2-c97c-961f359a5449"
      },
      "execution_count": 153,
      "outputs": [
        {
          "output_type": "stream",
          "name": "stdout",
          "text": [
            "best mean cross-validation score: 0.670\n",
            "{'C': 1, 'gamma': 0.0001}\n",
            "SVC(C=1, gamma=0.0001, kernel='linear')\n"
          ]
        }
      ]
    },
    {
      "cell_type": "code",
      "source": [
        "# Refitting model with tuned parameters\n",
        "\n",
        "model3 = SVC(kernel='linear', C= 1, gamma = 0.0001) # kernel and C are the main args to adjust for linear SVC\n",
        "model3.fit(preprocessor(X_train), y_train_labels)\n",
        "model3.score(preprocessor(X_train), y_train_labels)"
      ],
      "metadata": {
        "colab": {
          "base_uri": "https://localhost:8080/"
        },
        "id": "ghQ0UBgEiBUh",
        "outputId": "e0f65b7d-c09a-4af1-e6fb-ecf8dde9e21f"
      },
      "execution_count": 56,
      "outputs": [
        {
          "output_type": "execute_result",
          "data": {
            "text/plain": [
              "0.8522727272727273"
            ]
          },
          "metadata": {},
          "execution_count": 56
        }
      ]
    },
    {
      "cell_type": "code",
      "source": [
        "model3.coef_"
      ],
      "metadata": {
        "colab": {
          "base_uri": "https://localhost:8080/"
        },
        "id": "65oD-XMxl-2v",
        "outputId": "94034ef7-1504-4afd-c95c-3eb3ac2b9cee"
      },
      "execution_count": 84,
      "outputs": [
        {
          "output_type": "execute_result",
          "data": {
            "text/plain": [
              "array([[-9.07306120e-01, -1.23237653e+00, -8.71251439e-01,\n",
              "        -3.79113214e-01, -5.65584588e-02,  4.74630481e-01,\n",
              "         3.16254849e-01,  7.90804040e-04, -6.85566168e-01,\n",
              "         2.00758037e-01,  4.84017327e-01,  0.00000000e+00,\n",
              "         0.00000000e+00, -8.28866171e-01,  0.00000000e+00,\n",
              "        -1.33898394e-02, -6.85566168e-01,  7.90804040e-04,\n",
              "         0.00000000e+00, -4.16086386e-01,  6.07021465e-01,\n",
              "         0.00000000e+00,  9.13493552e-01,  0.00000000e+00,\n",
              "         4.22602744e-01,  0.00000000e+00],\n",
              "       [ 3.43437408e-01,  1.73186572e-01,  3.20091960e-01,\n",
              "         2.90574491e-01,  1.07319021e-02,  2.43053084e-01,\n",
              "         1.42524248e+00, -1.52980230e-01,  0.00000000e+00,\n",
              "        -4.10861360e-01,  5.63841590e-01,  0.00000000e+00,\n",
              "         0.00000000e+00,  1.00000000e+00,  3.76685552e-01,\n",
              "         5.82089437e-01,  0.00000000e+00,  9.79798137e-01,\n",
              "         0.00000000e+00,  0.00000000e+00,  0.00000000e+00,\n",
              "        -1.04787130e+00, -1.82478473e-02, -1.13277837e+00,\n",
              "        -7.39675612e-01,  0.00000000e+00],\n",
              "       [-1.03160784e+00, -6.35252795e-01, -5.28387053e-02,\n",
              "        -4.19298045e-01, -3.65289350e-01, -4.74672248e-01,\n",
              "         6.33685400e-01,  0.00000000e+00, -2.91387729e-01,\n",
              "         4.29319383e-01, -1.37931654e-01,  0.00000000e+00,\n",
              "         0.00000000e+00,  0.00000000e+00,  0.00000000e+00,\n",
              "         2.14727256e-01, -2.91387729e-01,  0.00000000e+00,\n",
              "         0.00000000e+00,  0.00000000e+00,  2.50626415e-01,\n",
              "         0.00000000e+00,  0.00000000e+00,  0.00000000e+00,\n",
              "         1.78692968e-01, -3.52658911e-01],\n",
              "       [ 7.64951417e-01,  1.80582813e-01,  2.11528273e-01,\n",
              "         1.71656242e-01, -3.10378535e-01, -3.12277730e-01,\n",
              "        -7.82200607e-02, -1.56153516e-01,  0.00000000e+00,\n",
              "        -6.18588813e-02,  2.18012397e-01,  0.00000000e+00,\n",
              "         0.00000000e+00,  1.00000000e+00,  0.00000000e+00,\n",
              "         1.80624859e-01,  0.00000000e+00,  2.36586876e-01,\n",
              "         0.00000000e+00,  0.00000000e+00,  6.81613749e-02,\n",
              "        -1.00000000e+00,  3.73875374e-02, -3.92740391e-01,\n",
              "        -1.30020256e-01,  0.00000000e+00],\n",
              "       [ 8.01391498e-01,  7.95319484e-01,  8.32385971e-01,\n",
              "         5.21084721e-01,  2.50678533e-01, -1.13223690e-01,\n",
              "         2.27736220e-01, -1.57642176e-01,  3.56999959e-01,\n",
              "        -2.77407427e-01,  7.80496432e-02,  0.00000000e+00,\n",
              "         0.00000000e+00,  1.48646260e-01,  3.29953953e-01,\n",
              "         4.39939799e-01,  3.56999959e-01,  0.00000000e+00,\n",
              "         0.00000000e+00,  1.82619169e-01, -2.19595719e-01,\n",
              "        -2.35113914e-02, -5.44509325e-01, -1.57642176e-01,\n",
              "        -5.12900529e-01,  0.00000000e+00],\n",
              "       [-6.22971553e-01,  2.49634381e-01, -1.13748993e-01,\n",
              "        -8.37471513e-02, -7.49608740e-01, -2.51951045e-01,\n",
              "         1.38591271e-01,  0.00000000e+00, -1.57614530e-01,\n",
              "         6.78404786e-01, -5.20790256e-01,  0.00000000e+00,\n",
              "         0.00000000e+00,  2.67796676e-02,  0.00000000e+00,\n",
              "         3.44474858e-02, -9.28928287e-03,  0.00000000e+00,\n",
              "        -1.48325247e-01,  1.75841933e-01,  1.00000000e+00,\n",
              "         0.00000000e+00,  3.10562540e-01,  0.00000000e+00,\n",
              "        -3.48374882e-01, -1.04164221e+00],\n",
              "       [ 2.41138872e-01,  5.32727701e-01,  5.38377841e-01,\n",
              "         6.07531625e-02, -1.43199861e-01,  2.06650866e-01,\n",
              "        -2.09492242e-01, -2.88062116e-01,  3.60010732e-01,\n",
              "        -2.71080810e-01,  1.99132194e-01,  0.00000000e+00,\n",
              "         0.00000000e+00,  3.27111575e-01,  2.41163683e-01,\n",
              "         1.99132194e-01,  3.60010732e-01, -1.82611761e-01,\n",
              "         0.00000000e+00,  0.00000000e+00, -4.15766141e-02,\n",
              "        -1.00000000e+00,  0.00000000e+00, -1.05450355e-01,\n",
              "         2.02220546e-01,  0.00000000e+00],\n",
              "       [-6.68048615e-01, -4.08843782e-01, -6.48643911e-01,\n",
              "        -5.96839543e-01, -5.46548817e-01, -4.78044674e-02,\n",
              "        -1.40230164e-02,  2.82230405e-02, -3.49402722e-01,\n",
              "         2.70593591e-01,  5.05860900e-02,  0.00000000e+00,\n",
              "         0.00000000e+00,  0.00000000e+00,  0.00000000e+00,\n",
              "         0.00000000e+00, -3.49402722e-01,  0.00000000e+00,\n",
              "         0.00000000e+00,  0.00000000e+00,  1.65490963e-01,\n",
              "         1.05102628e-01,  8.78478103e-02,  2.82230405e-02,\n",
              "         0.00000000e+00, -3.72617202e-02],\n",
              "       [ 4.88748419e-01,  1.70801825e-01,  1.68520016e-01,\n",
              "         4.34399456e-01, -3.36533668e-01, -6.08750092e-01,\n",
              "        -9.80413797e-01, -1.16968999e-01,  0.00000000e+00,\n",
              "         1.16968999e-01,  0.00000000e+00,  0.00000000e+00,\n",
              "         0.00000000e+00,  0.00000000e+00,  0.00000000e+00,\n",
              "         0.00000000e+00,  0.00000000e+00, -6.11522393e-01,\n",
              "         0.00000000e+00,  0.00000000e+00, -4.44782177e-01,\n",
              "         3.78867615e-01,  0.00000000e+00,  4.94553394e-01,\n",
              "         1.82883561e-01,  0.00000000e+00],\n",
              "       [ 5.93638380e-01,  2.92536610e-01,  2.37941253e-01,\n",
              "         5.65324305e-02, -3.78824117e-02,  2.62991604e-01,\n",
              "        -1.16920062e-01, -1.03623876e-01,  3.57925546e-01,\n",
              "        -2.69204193e-01,  1.49025235e-02,  0.00000000e+00,\n",
              "         0.00000000e+00,  0.00000000e+00,  0.00000000e+00,\n",
              "         0.00000000e+00,  3.57925546e-01, -7.77949136e-02,\n",
              "         0.00000000e+00,  0.00000000e+00, -1.18089020e-02,\n",
              "        -5.14263330e-01,  1.49025235e-02, -2.58289624e-02,\n",
              "         2.56868039e-01,  0.00000000e+00]])"
            ]
          },
          "metadata": {},
          "execution_count": 84
        }
      ]
    },
    {
      "cell_type": "code",
      "source": [
        "# Save sklearn model to local ONNX file\n",
        "from aimodelshare.aimsonnx import model_to_onnx\n",
        "\n",
        "# Check how many preprocessed input features are there\n",
        "from skl2onnx.common.data_types import FloatTensorType\n",
        "\n",
        "feature_count=preprocessor(X_test).shape[1] #Get count of preprocessed features\n",
        "initial_type = [('float_input', FloatTensorType([None, feature_count]))]  #Insert correct number of preprocessed features\n",
        "\n",
        "onnx_model = model_to_onnx(model3, framework='sklearn',\n",
        "                          initial_types=initial_type,\n",
        "                          transfer_learning=False,\n",
        "                          deep_learning=False)\n",
        "\n",
        "with open(\"model3.onnx\", \"wb\") as f:\n",
        "    f.write(onnx_model.SerializeToString())"
      ],
      "metadata": {
        "id": "voxz8TZvmBM6"
      },
      "execution_count": 176,
      "outputs": []
    },
    {
      "cell_type": "code",
      "source": [
        "#Submit Model 3: \n",
        "\n",
        "#-- Generate predicted y values (Model 3)\n",
        "prediction_labels = model3.predict(preprocessor(X_test))\n",
        "\n",
        "# Submit Model 2 to Competition Leaderboard\n",
        "mycompetition.submit_model(model_filepath = \"model3.onnx\",\n",
        "                                 preprocessor_filepath=\"preprocessor.zip\",\n",
        "                                 prediction_submission=prediction_labels,\n",
        "                                  custom_metadata={'team': '2'})"
      ],
      "metadata": {
        "colab": {
          "base_uri": "https://localhost:8080/"
        },
        "id": "SNRPFY6fMK6D",
        "outputId": "ac1ad747-a864-4622-c45a-5b02196aaa98"
      },
      "execution_count": 177,
      "outputs": [
        {
          "output_type": "stream",
          "name": "stdout",
          "text": [
            "Insert search tags to help users find your model (optional): \n",
            "Provide any useful notes about your model (optional): \n",
            "\n",
            "Your model has been submitted as model version 619\n",
            "\n",
            "To submit code used to create this model or to view current leaderboard navigate to Model Playground: \n",
            "\n",
            " https://www.modelshare.org/detail/model:3164\n"
          ]
        }
      ]
    },
    {
      "cell_type": "markdown",
      "source": [
        "## MODEL 4: GRADIENT BOOST"
      ],
      "metadata": {
        "id": "ovmUPz1i4YXz"
      }
    },
    {
      "cell_type": "code",
      "source": [
        "bgmodel = GradientBoostingClassifier().fit(preprocessor(X_train), y_train_labels)"
      ],
      "metadata": {
        "id": "Zrmf56V2-LrO"
      },
      "execution_count": 140,
      "outputs": []
    },
    {
      "cell_type": "code",
      "source": [
        "from sklearn.ensemble import GradientBoostingClassifier\n",
        "\n",
        "bgparam_grid = {'n_estimators': [1, 5, 10, 50],'learning_rate': [0.0001, 0.0005, 0.001, 0.005], 'max_depth' : [1, 5, 7, 9]}\n",
        "\n",
        "bggrid = GridSearchCV(bgmodel, bgparam_grid)\n",
        "\n",
        "bggrid.fit(preprocessor(X_train), y_train_labels)\n",
        "print(\"best mean cross-validation score: {:.3f}\".format(bggrid.best_score_))\n",
        "print(bggrid.best_params_)\n",
        "print(bggrid.best_estimator_)"
      ],
      "metadata": {
        "colab": {
          "base_uri": "https://localhost:8080/"
        },
        "id": "laoF4KrM9T3I",
        "outputId": "17f760f4-eb5a-4838-9bab-941322745900"
      },
      "execution_count": 154,
      "outputs": [
        {
          "output_type": "stream",
          "name": "stdout",
          "text": [
            "best mean cross-validation score: 0.557\n",
            "{'learning_rate': 0.005, 'max_depth': 1, 'n_estimators': 50}\n",
            "GradientBoostingClassifier(learning_rate=0.005, max_depth=1, n_estimators=50)\n"
          ]
        }
      ]
    },
    {
      "cell_type": "code",
      "source": [
        "model4 = GradientBoostingClassifier(n_estimators=50, learning_rate=0.005,\n",
        "    max_depth=1, random_state=0).fit(preprocessor(X_train), y_train_labels)\n",
        "model4.score(preprocessor(X_train), y_train_labels)"
      ],
      "metadata": {
        "colab": {
          "base_uri": "https://localhost:8080/"
        },
        "id": "JvjJ-LfI9JJV",
        "outputId": "b5a8d645-1383-4eb6-9586-f54d0051c37b"
      },
      "execution_count": 142,
      "outputs": [
        {
          "output_type": "execute_result",
          "data": {
            "text/plain": [
              "0.6477272727272727"
            ]
          },
          "metadata": {},
          "execution_count": 142
        }
      ]
    },
    {
      "cell_type": "code",
      "source": [
        "# Save sklearn model to local ONNX file\n",
        "from aimodelshare.aimsonnx import model_to_onnx\n",
        "\n",
        "# Check how many preprocessed input features are there\n",
        "from skl2onnx.common.data_types import FloatTensorType\n",
        "\n",
        "feature_count=preprocessor(X_test).shape[1] #Get count of preprocessed features\n",
        "initial_type = [('float_input', FloatTensorType([None, feature_count]))]  #Insert correct number of preprocessed features\n",
        "\n",
        "onnx_model = model_to_onnx(model4, framework='sklearn',\n",
        "                          initial_types=initial_type,\n",
        "                          transfer_learning=False,\n",
        "                          deep_learning=False)\n",
        "\n",
        "with open(\"model4.onnx\", \"wb\") as f:\n",
        "    f.write(onnx_model.SerializeToString())"
      ],
      "metadata": {
        "id": "d-qw-miLMT7w"
      },
      "execution_count": 178,
      "outputs": []
    },
    {
      "cell_type": "code",
      "source": [
        "#Submit Model 4: \n",
        "\n",
        "#-- Generate predicted y values (Model 4)\n",
        "prediction_labels = model4.predict(preprocessor(X_test))\n",
        "\n",
        "# Submit Model 2 to Competition Leaderboard\n",
        "mycompetition.submit_model(model_filepath = \"model4.onnx\",\n",
        "                                 preprocessor_filepath=\"preprocessor.zip\",\n",
        "                                 prediction_submission=prediction_labels,\n",
        "                                  custom_metadata={'team': '2'})"
      ],
      "metadata": {
        "colab": {
          "base_uri": "https://localhost:8080/"
        },
        "outputId": "b73fae30-1acb-455a-8996-81f370e51ebf",
        "id": "OhSTT77-MT7w"
      },
      "execution_count": 179,
      "outputs": [
        {
          "output_type": "stream",
          "name": "stdout",
          "text": [
            "Insert search tags to help users find your model (optional): \n",
            "Provide any useful notes about your model (optional): \n",
            "\n",
            "Your model has been submitted as model version 620\n",
            "\n",
            "To submit code used to create this model or to view current leaderboard navigate to Model Playground: \n",
            "\n",
            " https://www.modelshare.org/detail/model:3164\n"
          ]
        }
      ]
    },
    {
      "cell_type": "markdown",
      "source": [
        "### Fit and submit 3 more"
      ],
      "metadata": {
        "id": "QCogrZ9FMfcb"
      }
    },
    {
      "cell_type": "markdown",
      "source": [
        "#### MODEL 1: GRADIENT BOOST"
      ],
      "metadata": {
        "id": "9EBtN41MNtMs"
      }
    },
    {
      "cell_type": "code",
      "source": [
        "model5 = GradientBoostingClassifier().fit(preprocessor(X_train), y_train_labels)"
      ],
      "metadata": {
        "id": "AufMw_vdOpbh"
      },
      "execution_count": 180,
      "outputs": []
    },
    {
      "cell_type": "code",
      "source": [
        "from sklearn.ensemble import GradientBoostingClassifier\n",
        "\n",
        "m5param_grid = {'n_estimators': [50, 70, 90, 120],'learning_rate': [0.001, 0.005, 0.01, 0.05], 'max_depth' : [1, 5, 7, 9]}\n",
        "\n",
        "m5grid = GridSearchCV(model5, m5param_grid)\n",
        "\n",
        "m5grid.fit(preprocessor(X_train), y_train_labels)\n",
        "print(\"best mean cross-validation score: {:.3f}\".format(m5grid.best_score_))\n",
        "print(m5grid.best_params_)\n",
        "print(m5grid.best_estimator_)"
      ],
      "metadata": {
        "colab": {
          "base_uri": "https://localhost:8080/"
        },
        "outputId": "68b5e62e-6432-4029-fcb0-081e3a1c032d",
        "id": "_tFVhmAnOpbi"
      },
      "execution_count": 182,
      "outputs": [
        {
          "output_type": "stream",
          "name": "stdout",
          "text": [
            "best mean cross-validation score: 0.637\n",
            "{'learning_rate': 0.05, 'max_depth': 5, 'n_estimators': 90}\n",
            "GradientBoostingClassifier(learning_rate=0.05, max_depth=5, n_estimators=90)\n"
          ]
        }
      ]
    },
    {
      "cell_type": "code",
      "source": [
        "model5 = GradientBoostingClassifier(n_estimators=90, learning_rate=0.05,\n",
        "    max_depth=1, random_state=0).fit(preprocessor(X_train), y_train_labels)\n",
        "model5.score(preprocessor(X_train), y_train_labels)"
      ],
      "metadata": {
        "colab": {
          "base_uri": "https://localhost:8080/"
        },
        "outputId": "ca727644-f0f6-46bc-8245-bf7f0a8bc73a",
        "id": "jVqlLEjSOpbi"
      },
      "execution_count": 183,
      "outputs": [
        {
          "output_type": "execute_result",
          "data": {
            "text/plain": [
              "0.9090909090909091"
            ]
          },
          "metadata": {},
          "execution_count": 183
        }
      ]
    },
    {
      "cell_type": "code",
      "source": [
        "# Save sklearn model to local ONNX file\n",
        "from aimodelshare.aimsonnx import model_to_onnx\n",
        "\n",
        "# Check how many preprocessed input features are there\n",
        "from skl2onnx.common.data_types import FloatTensorType\n",
        "\n",
        "feature_count=preprocessor(X_test).shape[1] #Get count of preprocessed features\n",
        "initial_type = [('float_input', FloatTensorType([None, feature_count]))]  #Insert correct number of preprocessed features\n",
        "\n",
        "onnx_model = model_to_onnx(model5, framework='sklearn',\n",
        "                          initial_types=initial_type,\n",
        "                          transfer_learning=False,\n",
        "                          deep_learning=False)\n",
        "\n",
        "with open(\"model5.onnx\", \"wb\") as f:\n",
        "    f.write(onnx_model.SerializeToString())"
      ],
      "metadata": {
        "id": "49TDKNLWaSK3"
      },
      "execution_count": 204,
      "outputs": []
    },
    {
      "cell_type": "code",
      "source": [
        "#Submit new model \n",
        "\n",
        "#-- Generate predicted y values (Model 5)\n",
        "prediction_labels = model5.predict(preprocessor(X_test))\n",
        "\n",
        "# Submit Model 2 to Competition Leaderboard\n",
        "mycompetition.submit_model(model_filepath = \"model5.onnx\",\n",
        "                                 preprocessor_filepath=\"preprocessor.zip\",\n",
        "                                 prediction_submission=prediction_labels,\n",
        "                                  custom_metadata={'team': '2'})"
      ],
      "metadata": {
        "colab": {
          "base_uri": "https://localhost:8080/"
        },
        "id": "VbFACYWEaKjO",
        "outputId": "8ce9311c-5712-4c07-9b91-d99fb56e37ee"
      },
      "execution_count": 205,
      "outputs": [
        {
          "output_type": "stream",
          "name": "stdout",
          "text": [
            "Insert search tags to help users find your model (optional): \n",
            "Provide any useful notes about your model (optional): \n",
            "\n",
            "Your model has been submitted as model version 625\n",
            "\n",
            "To submit code used to create this model or to view current leaderboard navigate to Model Playground: \n",
            "\n",
            " https://www.modelshare.org/detail/model:3164\n"
          ]
        }
      ]
    },
    {
      "cell_type": "markdown",
      "source": [
        "#### MODEL 2: BAGGING CLASSIFIER"
      ],
      "metadata": {
        "id": "kKl8U6ZVSYyJ"
      }
    },
    {
      "cell_type": "code",
      "source": [
        "from sklearn.ensemble import BaggingClassifier\n",
        "\n",
        "model6 = BaggingClassifier()\n",
        "\n",
        "m6param_grid = {'n_estimators': [120, 150, 170],'max_samples': [20, 25, 27, 30], 'max_features' : [5, 7, 9, 11]}\n",
        "\n",
        "m6grid = GridSearchCV(model6, m6param_grid)\n",
        "m6grid.fit(preprocessor(X_train), y_train_labels)\n",
        "print(\"best mean cross-validation score: {:.3f}\".format(m6grid.best_score_))\n",
        "print(m6grid.best_params_)\n",
        "print(m6grid.best_estimator_)"
      ],
      "metadata": {
        "colab": {
          "base_uri": "https://localhost:8080/"
        },
        "id": "TpZJfksITg-E",
        "outputId": "8c124847-d1f8-41c9-fa82-92eb0638a11f"
      },
      "execution_count": 188,
      "outputs": [
        {
          "output_type": "stream",
          "name": "stdout",
          "text": [
            "best mean cross-validation score: 0.726\n",
            "{'max_features': 9, 'max_samples': 27, 'n_estimators': 150}\n",
            "BaggingClassifier(max_features=9, max_samples=27, n_estimators=150)\n"
          ]
        }
      ]
    },
    {
      "cell_type": "code",
      "source": [
        "model6 = GradientBoostingClassifier(n_estimators=150, max_features=9).fit(preprocessor(X_train), y_train_labels)\n",
        "model6.score(preprocessor(X_train), y_train_labels)"
      ],
      "metadata": {
        "colab": {
          "base_uri": "https://localhost:8080/"
        },
        "id": "aMdinijuXBRh",
        "outputId": "f0b7e466-c4df-4a52-b728-ac830f76aa1a"
      },
      "execution_count": 194,
      "outputs": [
        {
          "output_type": "execute_result",
          "data": {
            "text/plain": [
              "1.0"
            ]
          },
          "metadata": {},
          "execution_count": 194
        }
      ]
    },
    {
      "cell_type": "code",
      "source": [
        "# Save sklearn model to local ONNX file\n",
        "from aimodelshare.aimsonnx import model_to_onnx\n",
        "\n",
        "# Check how many preprocessed input features are there\n",
        "from skl2onnx.common.data_types import FloatTensorType\n",
        "\n",
        "feature_count=preprocessor(X_test).shape[1] #Get count of preprocessed features\n",
        "initial_type = [('float_input', FloatTensorType([None, feature_count]))]  #Insert correct number of preprocessed features\n",
        "\n",
        "onnx_model = model_to_onnx(model6, framework='sklearn',\n",
        "                          initial_types=initial_type,\n",
        "                          transfer_learning=False,\n",
        "                          deep_learning=False)\n",
        "\n",
        "with open(\"model6.onnx\", \"wb\") as f:\n",
        "    f.write(onnx_model.SerializeToString())"
      ],
      "metadata": {
        "id": "QIR_XRYYavX-"
      },
      "execution_count": 206,
      "outputs": []
    },
    {
      "cell_type": "code",
      "source": [
        "# Submit new model\n",
        "\n",
        "#-- Generate predicted y values (Model 6)\n",
        "prediction_labels = model6.predict(preprocessor(X_test))\n",
        "\n",
        "# Submit Model 2 to Competition Leaderboard\n",
        "mycompetition.submit_model(model_filepath = \"model6.onnx\",\n",
        "                                 preprocessor_filepath=\"preprocessor.zip\",\n",
        "                                 prediction_submission=prediction_labels,\n",
        "                                  custom_metadata={'team': '2'})"
      ],
      "metadata": {
        "colab": {
          "base_uri": "https://localhost:8080/"
        },
        "id": "V2EuXJGtXVn4",
        "outputId": "6479f4da-bc4e-4dea-ef94-628d033694ef"
      },
      "execution_count": 207,
      "outputs": [
        {
          "output_type": "stream",
          "name": "stdout",
          "text": [
            "Insert search tags to help users find your model (optional): \n",
            "Provide any useful notes about your model (optional): \n",
            "\n",
            "Your model has been submitted as model version 626\n",
            "\n",
            "To submit code used to create this model or to view current leaderboard navigate to Model Playground: \n",
            "\n",
            " https://www.modelshare.org/detail/model:3164\n"
          ]
        }
      ]
    },
    {
      "cell_type": "markdown",
      "source": [
        "#### MODEL 3: SVC"
      ],
      "metadata": {
        "id": "lqNyqsNVXnIg"
      }
    },
    {
      "cell_type": "code",
      "source": [
        "model7 = SVC()\n",
        "\n",
        "m7param_grid = {'C' : [1, 2, 3, 5, 7], 'gamma': [0.05, 0.1, 0.5], 'kernel' :['rbf', 'linear']}\n",
        "m7grid = GridSearchCV(model7, m7param_grid)\n",
        "m7grid.fit(preprocessor(X_train), y_train_labels)\n",
        "print(\"best mean cross-validation score: {:.3f}\".format(m7grid.best_score_))\n",
        "print(m7grid.best_params_)\n",
        "print(m7grid.best_estimator_)"
      ],
      "metadata": {
        "colab": {
          "base_uri": "https://localhost:8080/"
        },
        "id": "TlRcEN73ZG7H",
        "outputId": "4c8f3ff9-4d0b-4738-b2cd-333aee219744"
      },
      "execution_count": 202,
      "outputs": [
        {
          "output_type": "stream",
          "name": "stdout",
          "text": [
            "best mean cross-validation score: 0.716\n",
            "{'C': 3, 'gamma': 0.05, 'kernel': 'rbf'}\n",
            "SVC(C=3, gamma=0.05)\n"
          ]
        }
      ]
    },
    {
      "cell_type": "code",
      "source": [
        "model7 = SVC(C=3, gamma=0.05, kernel='rbf').fit(preprocessor(X_train), y_train_labels)\n",
        "model7.score(preprocessor(X_train), y_train_labels)"
      ],
      "metadata": {
        "colab": {
          "base_uri": "https://localhost:8080/"
        },
        "id": "Wbob0sqNZ3vF",
        "outputId": "ab7e7a45-a836-41cc-f061-684250455123"
      },
      "execution_count": 203,
      "outputs": [
        {
          "output_type": "execute_result",
          "data": {
            "text/plain": [
              "0.8409090909090909"
            ]
          },
          "metadata": {},
          "execution_count": 203
        }
      ]
    },
    {
      "cell_type": "code",
      "source": [
        "# Save sklearn model to local ONNX file\n",
        "from aimodelshare.aimsonnx import model_to_onnx\n",
        "\n",
        "# Check how many preprocessed input features are there\n",
        "from skl2onnx.common.data_types import FloatTensorType\n",
        "\n",
        "feature_count=preprocessor(X_test).shape[1] #Get count of preprocessed features\n",
        "initial_type = [('float_input', FloatTensorType([None, feature_count]))]  #Insert correct number of preprocessed features\n",
        "\n",
        "onnx_model = model_to_onnx(model7, framework='sklearn',\n",
        "                          initial_types=initial_type,\n",
        "                          transfer_learning=False,\n",
        "                          deep_learning=False)\n",
        "\n",
        "with open(\"model7.onnx\", \"wb\") as f:\n",
        "    f.write(onnx_model.SerializeToString())"
      ],
      "metadata": {
        "id": "VKu4tmuAbOu_"
      },
      "execution_count": 208,
      "outputs": []
    },
    {
      "cell_type": "code",
      "source": [
        "#Submit new model\n",
        "\n",
        "#-- Generate predicted y values (Model 7)\n",
        "prediction_labels = model7.predict(preprocessor(X_test))\n",
        "\n",
        "# Submit Model 2 to Competition Leaderboard\n",
        "mycompetition.submit_model(model_filepath = \"model7.onnx\",\n",
        "                                 preprocessor_filepath=\"preprocessor.zip\",\n",
        "                                 prediction_submission=prediction_labels,\n",
        "                                  custom_metadata={'team': '2'})"
      ],
      "metadata": {
        "colab": {
          "base_uri": "https://localhost:8080/"
        },
        "id": "EU8-vYd2aEoX",
        "outputId": "3599ab06-5b80-4361-d93c-6b843991eff6"
      },
      "execution_count": 209,
      "outputs": [
        {
          "output_type": "stream",
          "name": "stdout",
          "text": [
            "Insert search tags to help users find your model (optional): \n",
            "Provide any useful notes about your model (optional): \n",
            "\n",
            "Your model has been submitted as model version 628\n",
            "\n",
            "To submit code used to create this model or to view current leaderboard navigate to Model Playground: \n",
            "\n",
            " https://www.modelshare.org/detail/model:3164\n"
          ]
        }
      ]
    },
    {
      "cell_type": "markdown",
      "source": [
        "### Discuss which models you tried and which models performed better and point out relevant hyper-parameter values for successful models."
      ],
      "metadata": {
        "id": "0Z5400-QbvjO"
      }
    },
    {
      "cell_type": "markdown",
      "source": [
        "#### After speaking with my team, I tried the Bagging Classifer model and re-tried the SVC and Gradient Boost models again. I changed the parameters using GridSearch again, but this time I tried increasing the parameters from the ones I last used. While my newer models had better cross-validation scores, they didn't seem to perform better on the leaderboard/ test set.\n",
        "\n",
        "#### Based on the models I've done so far, the best performing model on the leaderboard was my Random Forest Classifier model, with the parameters n_estimators=500, max_depth=7. Following that is my SVC model."
      ],
      "metadata": {
        "id": "wIF2XUXwb01f"
      }
    }
  ]
}